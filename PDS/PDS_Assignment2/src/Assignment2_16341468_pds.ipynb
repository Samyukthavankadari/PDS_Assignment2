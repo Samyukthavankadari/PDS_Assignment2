{
  "nbformat": 4,
  "nbformat_minor": 0,
  "metadata": {
    "colab": {
      "provenance": []
    },
    "kernelspec": {
      "name": "python3",
      "display_name": "Python 3"
    },
    "language_info": {
      "name": "python"
    }
  },
  "cells": [
    {
      "cell_type": "code",
      "execution_count": 159,
      "metadata": {
        "colab": {
          "base_uri": "https://localhost:8080/"
        },
        "id": "YJK6KbYJ6sdD",
        "outputId": "191f31e5-4fbb-4e95-bdae-a7c97e0db148"
      },
      "outputs": [
        {
          "output_type": "stream",
          "name": "stdout",
          "text": [
            "   Unnamed: 0                              Name    Location  Year  \\\n",
            "0           1  Hyundai Creta 1.6 CRDi SX Option        Pune  2015   \n",
            "1           2                      Honda Jazz V     Chennai  2011   \n",
            "2           3                 Maruti Ertiga VDI     Chennai  2012   \n",
            "3           4   Audi A4 New 2.0 TDI Multitronic  Coimbatore  2013   \n",
            "4           6            Nissan Micra Diesel XV      Jaipur  2013   \n",
            "\n",
            "   Kilometers_Driven Fuel_Type Transmission Owner_Type     Mileage   Engine  \\\n",
            "0              41000    Diesel       Manual      First  19.67 kmpl  1582 CC   \n",
            "1              46000    Petrol       Manual      First    13 km/kg  1199 CC   \n",
            "2              87000    Diesel       Manual      First  20.77 kmpl  1248 CC   \n",
            "3              40670    Diesel    Automatic     Second   15.2 kmpl  1968 CC   \n",
            "4              86999    Diesel       Manual      First  23.08 kmpl  1461 CC   \n",
            "\n",
            "       Power  Seats  New_Price  Price  \n",
            "0  126.2 bhp    5.0        NaN  12.50  \n",
            "1   88.7 bhp    5.0  8.61 Lakh   4.50  \n",
            "2  88.76 bhp    7.0        NaN   6.00  \n",
            "3  140.8 bhp    5.0        NaN  17.74  \n",
            "4   63.1 bhp    5.0        NaN   3.50  \n"
          ]
        }
      ],
      "source": [
        "import pandas as pd\n",
        "\n",
        "data = pd.read_csv('https://raw.githubusercontent.com/Samyukthavankadari/PDS_Assignment2/58b22cf9f5674abbb30f1ba0a3079239ab5a7e74/raw_data/train%20(1).csv')\n",
        "\n",
        "print(data.head())"
      ]
    },
    {
      "cell_type": "markdown",
      "source": [
        "a.Look for the missing values in all the columns and either impute them (replace with mean,\n",
        "median, or mode) or drop them. Justify your action for this task."
      ],
      "metadata": {
        "id": "myJbt7R58feo"
      }
    },
    {
      "cell_type": "code",
      "source": [
        "#dropping null values\n",
        "\n",
        "print(data.isnull().sum())\n",
        "\n",
        "# Drop rows with any missing values\n",
        "data_cleaned = data.dropna()\n",
        "print(data_cleaned.isnull().sum())"
      ],
      "metadata": {
        "colab": {
          "base_uri": "https://localhost:8080/"
        },
        "id": "J2hceAio-I0d",
        "outputId": "6ebe54be-8dc8-4e1b-9961-301e313f8a02"
      },
      "execution_count": 160,
      "outputs": [
        {
          "output_type": "stream",
          "name": "stdout",
          "text": [
            "Unnamed: 0              0\n",
            "Name                    0\n",
            "Location                0\n",
            "Year                    0\n",
            "Kilometers_Driven       0\n",
            "Fuel_Type               0\n",
            "Transmission            0\n",
            "Owner_Type              0\n",
            "Mileage                 2\n",
            "Engine                 36\n",
            "Power                  36\n",
            "Seats                  38\n",
            "New_Price            5032\n",
            "Price                   0\n",
            "dtype: int64\n",
            "Unnamed: 0           0\n",
            "Name                 0\n",
            "Location             0\n",
            "Year                 0\n",
            "Kilometers_Driven    0\n",
            "Fuel_Type            0\n",
            "Transmission         0\n",
            "Owner_Type           0\n",
            "Mileage              0\n",
            "Engine               0\n",
            "Power                0\n",
            "Seats                0\n",
            "New_Price            0\n",
            "Price                0\n",
            "dtype: int64\n"
          ]
        }
      ]
    },
    {
      "cell_type": "markdown",
      "source": [
        " Ans.Each car has a unique company and model, so we can't simply replace null values with the mean, median, or mode for a specific column, as this could compromise the accuracy of our analysis."
      ],
      "metadata": {
        "id": "N-8UPpEN-v-E"
      }
    },
    {
      "cell_type": "markdown",
      "source": [
        "b.Remove the units from some of the attributes and only keep the numerical values (for\n",
        "example remove kmpl from “Mileage”, CC from “Engine”, bhp from “Power”, and lakh from\n",
        "“New_price”)."
      ],
      "metadata": {
        "id": "0Liou_8R_Uyv"
      }
    },
    {
      "cell_type": "code",
      "source": [
        "# Removing units from 'Mileage', 'Engine', 'Power' variables\n",
        "data_cleaned['Mileage'] = data_cleaned['Mileage'].str.extract('(\\d+\\.?\\d*)').astype(float)\n",
        "data_cleaned['Engine'] = data_cleaned['Engine'].str.extract('(\\d+)').astype(float)\n",
        "data_cleaned['Power'] = data_cleaned['Power'].str.extract('(\\d+\\.?\\d*)').astype(float)\n",
        "\n",
        "\n",
        "print(\"\\nData after removing units:\")\n",
        "print(data_cleaned.head())\n",
        "data_cleaned.to_csv('removing_units.csv', index=False)"
      ],
      "metadata": {
        "colab": {
          "base_uri": "https://localhost:8080/"
        },
        "id": "4P3GaCiMBQub",
        "outputId": "aaf759d5-3a8e-4609-ae1f-094b560d124a"
      },
      "execution_count": 161,
      "outputs": [
        {
          "output_type": "stream",
          "name": "stdout",
          "text": [
            "\n",
            "Data after removing units:\n",
            "    Unnamed: 0                               Name Location  Year  \\\n",
            "1            2                       Honda Jazz V  Chennai  2011   \n",
            "5            7  Toyota Innova Crysta 2.8 GX AT 8S   Mumbai  2016   \n",
            "8           10                   Maruti Ciaz Zeta    Kochi  2018   \n",
            "13          15        Mitsubishi Pajero Sport 4X4    Delhi  2014   \n",
            "18          20                  BMW 3 Series 320d    Kochi  2014   \n",
            "\n",
            "    Kilometers_Driven Fuel_Type Transmission Owner_Type  Mileage  Engine  \\\n",
            "1               46000    Petrol       Manual      First    13.00  1199.0   \n",
            "5               36000    Diesel    Automatic      First    11.36  2755.0   \n",
            "8               25692    Petrol       Manual      First    21.56  1462.0   \n",
            "13             110000    Diesel       Manual      First    13.50  2477.0   \n",
            "18              32982    Diesel    Automatic      First    22.69  1995.0   \n",
            "\n",
            "     Power  Seats   New_Price  Price  \n",
            "1    88.70    5.0   8.61 Lakh   4.50  \n",
            "5   171.50    8.0     21 Lakh  17.50  \n",
            "8   103.25    5.0  10.65 Lakh   9.95  \n",
            "13  175.56    7.0  32.01 Lakh  15.00  \n",
            "18  190.00    5.0  47.87 Lakh  18.55  \n"
          ]
        },
        {
          "output_type": "stream",
          "name": "stderr",
          "text": [
            "<ipython-input-161-fa09685069f1>:2: SettingWithCopyWarning: \n",
            "A value is trying to be set on a copy of a slice from a DataFrame.\n",
            "Try using .loc[row_indexer,col_indexer] = value instead\n",
            "\n",
            "See the caveats in the documentation: https://pandas.pydata.org/pandas-docs/stable/user_guide/indexing.html#returning-a-view-versus-a-copy\n",
            "  data_cleaned['Mileage'] = data_cleaned['Mileage'].str.extract('(\\d+\\.?\\d*)').astype(float)\n",
            "<ipython-input-161-fa09685069f1>:3: SettingWithCopyWarning: \n",
            "A value is trying to be set on a copy of a slice from a DataFrame.\n",
            "Try using .loc[row_indexer,col_indexer] = value instead\n",
            "\n",
            "See the caveats in the documentation: https://pandas.pydata.org/pandas-docs/stable/user_guide/indexing.html#returning-a-view-versus-a-copy\n",
            "  data_cleaned['Engine'] = data_cleaned['Engine'].str.extract('(\\d+)').astype(float)\n",
            "<ipython-input-161-fa09685069f1>:4: SettingWithCopyWarning: \n",
            "A value is trying to be set on a copy of a slice from a DataFrame.\n",
            "Try using .loc[row_indexer,col_indexer] = value instead\n",
            "\n",
            "See the caveats in the documentation: https://pandas.pydata.org/pandas-docs/stable/user_guide/indexing.html#returning-a-view-versus-a-copy\n",
            "  data_cleaned['Power'] = data_cleaned['Power'].str.extract('(\\d+\\.?\\d*)').astype(float)\n"
          ]
        }
      ]
    },
    {
      "cell_type": "code",
      "source": [
        "df11 = data_cleaned\n",
        "print(df11.head(5))"
      ],
      "metadata": {
        "colab": {
          "base_uri": "https://localhost:8080/"
        },
        "id": "IaaImY12Bvdi",
        "outputId": "5717f39e-3e18-4c12-dd4b-ec82f4f5b104"
      },
      "execution_count": 162,
      "outputs": [
        {
          "output_type": "stream",
          "name": "stdout",
          "text": [
            "    Unnamed: 0                               Name Location  Year  \\\n",
            "1            2                       Honda Jazz V  Chennai  2011   \n",
            "5            7  Toyota Innova Crysta 2.8 GX AT 8S   Mumbai  2016   \n",
            "8           10                   Maruti Ciaz Zeta    Kochi  2018   \n",
            "13          15        Mitsubishi Pajero Sport 4X4    Delhi  2014   \n",
            "18          20                  BMW 3 Series 320d    Kochi  2014   \n",
            "\n",
            "    Kilometers_Driven Fuel_Type Transmission Owner_Type  Mileage  Engine  \\\n",
            "1               46000    Petrol       Manual      First    13.00  1199.0   \n",
            "5               36000    Diesel    Automatic      First    11.36  2755.0   \n",
            "8               25692    Petrol       Manual      First    21.56  1462.0   \n",
            "13             110000    Diesel       Manual      First    13.50  2477.0   \n",
            "18              32982    Diesel    Automatic      First    22.69  1995.0   \n",
            "\n",
            "     Power  Seats   New_Price  Price  \n",
            "1    88.70    5.0   8.61 Lakh   4.50  \n",
            "5   171.50    8.0     21 Lakh  17.50  \n",
            "8   103.25    5.0  10.65 Lakh   9.95  \n",
            "13  175.56    7.0  32.01 Lakh  15.00  \n",
            "18  190.00    5.0  47.87 Lakh  18.55  \n"
          ]
        }
      ]
    },
    {
      "cell_type": "markdown",
      "source": [
        "c. Change the categorical variables (“Fuel_Type” and “Transmission”) into numerical one hot\n",
        "encoded value."
      ],
      "metadata": {
        "id": "yxHqaV7KC1RL"
      }
    },
    {
      "cell_type": "code",
      "source": [
        "# Perform one-hot encoding using pandas get_dummies\n",
        "df11 = pd.get_dummies(df11, columns=['Fuel_Type', 'Transmission'], prefix=['Fuel', 'Transmission'])\n",
        "\n",
        "print(df11.head())\n",
        "df11.to_csv('one_hot_encoded.csv', index=False)"
      ],
      "metadata": {
        "colab": {
          "base_uri": "https://localhost:8080/"
        },
        "id": "5hthZ7x8D9r6",
        "outputId": "b8070c0e-feaf-4434-df47-dd981136a074"
      },
      "execution_count": 163,
      "outputs": [
        {
          "output_type": "stream",
          "name": "stdout",
          "text": [
            "    Unnamed: 0                               Name Location  Year  \\\n",
            "1            2                       Honda Jazz V  Chennai  2011   \n",
            "5            7  Toyota Innova Crysta 2.8 GX AT 8S   Mumbai  2016   \n",
            "8           10                   Maruti Ciaz Zeta    Kochi  2018   \n",
            "13          15        Mitsubishi Pajero Sport 4X4    Delhi  2014   \n",
            "18          20                  BMW 3 Series 320d    Kochi  2014   \n",
            "\n",
            "    Kilometers_Driven Owner_Type  Mileage  Engine   Power  Seats   New_Price  \\\n",
            "1               46000      First    13.00  1199.0   88.70    5.0   8.61 Lakh   \n",
            "5               36000      First    11.36  2755.0  171.50    8.0     21 Lakh   \n",
            "8               25692      First    21.56  1462.0  103.25    5.0  10.65 Lakh   \n",
            "13             110000      First    13.50  2477.0  175.56    7.0  32.01 Lakh   \n",
            "18              32982      First    22.69  1995.0  190.00    5.0  47.87 Lakh   \n",
            "\n",
            "    Price  Fuel_Diesel  Fuel_Petrol  Transmission_Automatic  \\\n",
            "1    4.50        False         True                   False   \n",
            "5   17.50         True        False                    True   \n",
            "8    9.95        False         True                   False   \n",
            "13  15.00         True        False                   False   \n",
            "18  18.55         True        False                    True   \n",
            "\n",
            "    Transmission_Manual  \n",
            "1                  True  \n",
            "5                 False  \n",
            "8                  True  \n",
            "13                 True  \n",
            "18                False  \n"
          ]
        }
      ]
    },
    {
      "cell_type": "markdown",
      "source": [
        "d.Create one more feature and add this column to the dataset (you can use mutate function in\n",
        "R for this). For example, you can calculate the current age of the car by subtracting “Year” value\n",
        "from the current year."
      ],
      "metadata": {
        "id": "UYqYbMQpE1Vk"
      }
    },
    {
      "cell_type": "code",
      "source": [
        "from datetime import datetime\n",
        "# Calculating current year\n",
        "current_year = datetime.now().year\n",
        "\n",
        "#caluculating current age of the car\n",
        "df11['Current_Age'] = current_year - df11['Year']\n",
        "\n",
        "\n",
        "df11.head(5)\n",
        "df11.to_csv('current_age.csv', index=False)"
      ],
      "metadata": {
        "id": "zmqxK9KTD1kk"
      },
      "execution_count": 172,
      "outputs": []
    },
    {
      "cell_type": "markdown",
      "source": [
        "e.Perform select, filter, rename, mutate, arrange and summarize with group by operations (or\n",
        "their equivalent operations in python) on this dataset."
      ],
      "metadata": {
        "id": "6O07q2YlFdkZ"
      }
    },
    {
      "cell_type": "code",
      "source": [
        "# Get the actual one-hot encoded column names\n",
        "fuel_columns = [col for col in df11.columns if col.startswith('Fuel_')]\n",
        "transmission_columns = [col for col in df11.columns if col.startswith('Transmission_')]\n",
        "\n",
        "# Include these new columns in your selection\n",
        "selected_columns = df11[['Name', 'Location', 'Year', 'Kilometers_Driven', 'Owner_Type', 'Seats', 'Price'] +\n",
        "                         fuel_columns + transmission_columns]\n",
        "\n",
        "#print(\"selected columns:\",selected_columns)\n",
        "selected_columns.head(5)\n",
        "selected_columns.to_csv('selected_columns.csv', index=False)\n",
        "\n"
      ],
      "metadata": {
        "id": "nycM_jy0Ff0l"
      },
      "execution_count": 174,
      "outputs": []
    },
    {
      "cell_type": "code",
      "source": [
        "#filteroperation\n",
        "filtered_data = df11[df11['Price'] > 10]\n",
        "filtered_data.head(5)\n",
        "filtered_data.to_csv('filtered_data.csv', index=False)"
      ],
      "metadata": {
        "id": "pnU9VslqFWqR"
      },
      "execution_count": 176,
      "outputs": []
    },
    {
      "cell_type": "code",
      "source": [
        "#rename operation\n",
        "renamed_df = df11.rename(columns={'Fuel_Type': 'FuelType', 'Transmission': 'TransType'})\n",
        "renamed_df.head(5)\n",
        "renamed_df.to_csv('renamed_df.csv', index=False)"
      ],
      "metadata": {
        "id": "OUmWVMO-GSYD"
      },
      "execution_count": 177,
      "outputs": []
    },
    {
      "cell_type": "code",
      "source": [
        "#mutate operation\n",
        "df11['Age'] = 2024 - df11['Year']\n",
        "df11.head(5)"
      ],
      "metadata": {
        "colab": {
          "base_uri": "https://localhost:8080/",
          "height": 434
        },
        "id": "uaxcsJeOHN7X",
        "outputId": "0b13fc2a-4a34-41f1-d9db-6c346df5ad6f"
      },
      "execution_count": 168,
      "outputs": [
        {
          "output_type": "execute_result",
          "data": {
            "text/plain": [
              "    Unnamed: 0                               Name Location  Year  \\\n",
              "1            2                       Honda Jazz V  Chennai  2011   \n",
              "5            7  Toyota Innova Crysta 2.8 GX AT 8S   Mumbai  2016   \n",
              "8           10                   Maruti Ciaz Zeta    Kochi  2018   \n",
              "13          15        Mitsubishi Pajero Sport 4X4    Delhi  2014   \n",
              "18          20                  BMW 3 Series 320d    Kochi  2014   \n",
              "\n",
              "    Kilometers_Driven Owner_Type  Mileage  Engine   Power  Seats   New_Price  \\\n",
              "1               46000      First    13.00  1199.0   88.70    5.0   8.61 Lakh   \n",
              "5               36000      First    11.36  2755.0  171.50    8.0     21 Lakh   \n",
              "8               25692      First    21.56  1462.0  103.25    5.0  10.65 Lakh   \n",
              "13             110000      First    13.50  2477.0  175.56    7.0  32.01 Lakh   \n",
              "18              32982      First    22.69  1995.0  190.00    5.0  47.87 Lakh   \n",
              "\n",
              "    Price  Fuel_Diesel  Fuel_Petrol  Transmission_Automatic  \\\n",
              "1    4.50        False         True                   False   \n",
              "5   17.50         True        False                    True   \n",
              "8    9.95        False         True                   False   \n",
              "13  15.00         True        False                   False   \n",
              "18  18.55         True        False                    True   \n",
              "\n",
              "    Transmission_Manual  Current_Age  Age  \n",
              "1                  True           13   13  \n",
              "5                 False            8    8  \n",
              "8                  True            6    6  \n",
              "13                 True           10   10  \n",
              "18                False           10   10  "
            ],
            "text/html": [
              "\n",
              "  <div id=\"df-e4ceeee6-da54-4433-9b87-e63c658e8e87\" class=\"colab-df-container\">\n",
              "    <div>\n",
              "<style scoped>\n",
              "    .dataframe tbody tr th:only-of-type {\n",
              "        vertical-align: middle;\n",
              "    }\n",
              "\n",
              "    .dataframe tbody tr th {\n",
              "        vertical-align: top;\n",
              "    }\n",
              "\n",
              "    .dataframe thead th {\n",
              "        text-align: right;\n",
              "    }\n",
              "</style>\n",
              "<table border=\"1\" class=\"dataframe\">\n",
              "  <thead>\n",
              "    <tr style=\"text-align: right;\">\n",
              "      <th></th>\n",
              "      <th>Unnamed: 0</th>\n",
              "      <th>Name</th>\n",
              "      <th>Location</th>\n",
              "      <th>Year</th>\n",
              "      <th>Kilometers_Driven</th>\n",
              "      <th>Owner_Type</th>\n",
              "      <th>Mileage</th>\n",
              "      <th>Engine</th>\n",
              "      <th>Power</th>\n",
              "      <th>Seats</th>\n",
              "      <th>New_Price</th>\n",
              "      <th>Price</th>\n",
              "      <th>Fuel_Diesel</th>\n",
              "      <th>Fuel_Petrol</th>\n",
              "      <th>Transmission_Automatic</th>\n",
              "      <th>Transmission_Manual</th>\n",
              "      <th>Current_Age</th>\n",
              "      <th>Age</th>\n",
              "    </tr>\n",
              "  </thead>\n",
              "  <tbody>\n",
              "    <tr>\n",
              "      <th>1</th>\n",
              "      <td>2</td>\n",
              "      <td>Honda Jazz V</td>\n",
              "      <td>Chennai</td>\n",
              "      <td>2011</td>\n",
              "      <td>46000</td>\n",
              "      <td>First</td>\n",
              "      <td>13.00</td>\n",
              "      <td>1199.0</td>\n",
              "      <td>88.70</td>\n",
              "      <td>5.0</td>\n",
              "      <td>8.61 Lakh</td>\n",
              "      <td>4.50</td>\n",
              "      <td>False</td>\n",
              "      <td>True</td>\n",
              "      <td>False</td>\n",
              "      <td>True</td>\n",
              "      <td>13</td>\n",
              "      <td>13</td>\n",
              "    </tr>\n",
              "    <tr>\n",
              "      <th>5</th>\n",
              "      <td>7</td>\n",
              "      <td>Toyota Innova Crysta 2.8 GX AT 8S</td>\n",
              "      <td>Mumbai</td>\n",
              "      <td>2016</td>\n",
              "      <td>36000</td>\n",
              "      <td>First</td>\n",
              "      <td>11.36</td>\n",
              "      <td>2755.0</td>\n",
              "      <td>171.50</td>\n",
              "      <td>8.0</td>\n",
              "      <td>21 Lakh</td>\n",
              "      <td>17.50</td>\n",
              "      <td>True</td>\n",
              "      <td>False</td>\n",
              "      <td>True</td>\n",
              "      <td>False</td>\n",
              "      <td>8</td>\n",
              "      <td>8</td>\n",
              "    </tr>\n",
              "    <tr>\n",
              "      <th>8</th>\n",
              "      <td>10</td>\n",
              "      <td>Maruti Ciaz Zeta</td>\n",
              "      <td>Kochi</td>\n",
              "      <td>2018</td>\n",
              "      <td>25692</td>\n",
              "      <td>First</td>\n",
              "      <td>21.56</td>\n",
              "      <td>1462.0</td>\n",
              "      <td>103.25</td>\n",
              "      <td>5.0</td>\n",
              "      <td>10.65 Lakh</td>\n",
              "      <td>9.95</td>\n",
              "      <td>False</td>\n",
              "      <td>True</td>\n",
              "      <td>False</td>\n",
              "      <td>True</td>\n",
              "      <td>6</td>\n",
              "      <td>6</td>\n",
              "    </tr>\n",
              "    <tr>\n",
              "      <th>13</th>\n",
              "      <td>15</td>\n",
              "      <td>Mitsubishi Pajero Sport 4X4</td>\n",
              "      <td>Delhi</td>\n",
              "      <td>2014</td>\n",
              "      <td>110000</td>\n",
              "      <td>First</td>\n",
              "      <td>13.50</td>\n",
              "      <td>2477.0</td>\n",
              "      <td>175.56</td>\n",
              "      <td>7.0</td>\n",
              "      <td>32.01 Lakh</td>\n",
              "      <td>15.00</td>\n",
              "      <td>True</td>\n",
              "      <td>False</td>\n",
              "      <td>False</td>\n",
              "      <td>True</td>\n",
              "      <td>10</td>\n",
              "      <td>10</td>\n",
              "    </tr>\n",
              "    <tr>\n",
              "      <th>18</th>\n",
              "      <td>20</td>\n",
              "      <td>BMW 3 Series 320d</td>\n",
              "      <td>Kochi</td>\n",
              "      <td>2014</td>\n",
              "      <td>32982</td>\n",
              "      <td>First</td>\n",
              "      <td>22.69</td>\n",
              "      <td>1995.0</td>\n",
              "      <td>190.00</td>\n",
              "      <td>5.0</td>\n",
              "      <td>47.87 Lakh</td>\n",
              "      <td>18.55</td>\n",
              "      <td>True</td>\n",
              "      <td>False</td>\n",
              "      <td>True</td>\n",
              "      <td>False</td>\n",
              "      <td>10</td>\n",
              "      <td>10</td>\n",
              "    </tr>\n",
              "  </tbody>\n",
              "</table>\n",
              "</div>\n",
              "    <div class=\"colab-df-buttons\">\n",
              "\n",
              "  <div class=\"colab-df-container\">\n",
              "    <button class=\"colab-df-convert\" onclick=\"convertToInteractive('df-e4ceeee6-da54-4433-9b87-e63c658e8e87')\"\n",
              "            title=\"Convert this dataframe to an interactive table.\"\n",
              "            style=\"display:none;\">\n",
              "\n",
              "  <svg xmlns=\"http://www.w3.org/2000/svg\" height=\"24px\" viewBox=\"0 -960 960 960\">\n",
              "    <path d=\"M120-120v-720h720v720H120Zm60-500h600v-160H180v160Zm220 220h160v-160H400v160Zm0 220h160v-160H400v160ZM180-400h160v-160H180v160Zm440 0h160v-160H620v160ZM180-180h160v-160H180v160Zm440 0h160v-160H620v160Z\"/>\n",
              "  </svg>\n",
              "    </button>\n",
              "\n",
              "  <style>\n",
              "    .colab-df-container {\n",
              "      display:flex;\n",
              "      gap: 12px;\n",
              "    }\n",
              "\n",
              "    .colab-df-convert {\n",
              "      background-color: #E8F0FE;\n",
              "      border: none;\n",
              "      border-radius: 50%;\n",
              "      cursor: pointer;\n",
              "      display: none;\n",
              "      fill: #1967D2;\n",
              "      height: 32px;\n",
              "      padding: 0 0 0 0;\n",
              "      width: 32px;\n",
              "    }\n",
              "\n",
              "    .colab-df-convert:hover {\n",
              "      background-color: #E2EBFA;\n",
              "      box-shadow: 0px 1px 2px rgba(60, 64, 67, 0.3), 0px 1px 3px 1px rgba(60, 64, 67, 0.15);\n",
              "      fill: #174EA6;\n",
              "    }\n",
              "\n",
              "    .colab-df-buttons div {\n",
              "      margin-bottom: 4px;\n",
              "    }\n",
              "\n",
              "    [theme=dark] .colab-df-convert {\n",
              "      background-color: #3B4455;\n",
              "      fill: #D2E3FC;\n",
              "    }\n",
              "\n",
              "    [theme=dark] .colab-df-convert:hover {\n",
              "      background-color: #434B5C;\n",
              "      box-shadow: 0px 1px 3px 1px rgba(0, 0, 0, 0.15);\n",
              "      filter: drop-shadow(0px 1px 2px rgba(0, 0, 0, 0.3));\n",
              "      fill: #FFFFFF;\n",
              "    }\n",
              "  </style>\n",
              "\n",
              "    <script>\n",
              "      const buttonEl =\n",
              "        document.querySelector('#df-e4ceeee6-da54-4433-9b87-e63c658e8e87 button.colab-df-convert');\n",
              "      buttonEl.style.display =\n",
              "        google.colab.kernel.accessAllowed ? 'block' : 'none';\n",
              "\n",
              "      async function convertToInteractive(key) {\n",
              "        const element = document.querySelector('#df-e4ceeee6-da54-4433-9b87-e63c658e8e87');\n",
              "        const dataTable =\n",
              "          await google.colab.kernel.invokeFunction('convertToInteractive',\n",
              "                                                    [key], {});\n",
              "        if (!dataTable) return;\n",
              "\n",
              "        const docLinkHtml = 'Like what you see? Visit the ' +\n",
              "          '<a target=\"_blank\" href=https://colab.research.google.com/notebooks/data_table.ipynb>data table notebook</a>'\n",
              "          + ' to learn more about interactive tables.';\n",
              "        element.innerHTML = '';\n",
              "        dataTable['output_type'] = 'display_data';\n",
              "        await google.colab.output.renderOutput(dataTable, element);\n",
              "        const docLink = document.createElement('div');\n",
              "        docLink.innerHTML = docLinkHtml;\n",
              "        element.appendChild(docLink);\n",
              "      }\n",
              "    </script>\n",
              "  </div>\n",
              "\n",
              "\n",
              "<div id=\"df-b2a55493-c024-442c-9cc6-9123fca29939\">\n",
              "  <button class=\"colab-df-quickchart\" onclick=\"quickchart('df-b2a55493-c024-442c-9cc6-9123fca29939')\"\n",
              "            title=\"Suggest charts\"\n",
              "            style=\"display:none;\">\n",
              "\n",
              "<svg xmlns=\"http://www.w3.org/2000/svg\" height=\"24px\"viewBox=\"0 0 24 24\"\n",
              "     width=\"24px\">\n",
              "    <g>\n",
              "        <path d=\"M19 3H5c-1.1 0-2 .9-2 2v14c0 1.1.9 2 2 2h14c1.1 0 2-.9 2-2V5c0-1.1-.9-2-2-2zM9 17H7v-7h2v7zm4 0h-2V7h2v10zm4 0h-2v-4h2v4z\"/>\n",
              "    </g>\n",
              "</svg>\n",
              "  </button>\n",
              "\n",
              "<style>\n",
              "  .colab-df-quickchart {\n",
              "      --bg-color: #E8F0FE;\n",
              "      --fill-color: #1967D2;\n",
              "      --hover-bg-color: #E2EBFA;\n",
              "      --hover-fill-color: #174EA6;\n",
              "      --disabled-fill-color: #AAA;\n",
              "      --disabled-bg-color: #DDD;\n",
              "  }\n",
              "\n",
              "  [theme=dark] .colab-df-quickchart {\n",
              "      --bg-color: #3B4455;\n",
              "      --fill-color: #D2E3FC;\n",
              "      --hover-bg-color: #434B5C;\n",
              "      --hover-fill-color: #FFFFFF;\n",
              "      --disabled-bg-color: #3B4455;\n",
              "      --disabled-fill-color: #666;\n",
              "  }\n",
              "\n",
              "  .colab-df-quickchart {\n",
              "    background-color: var(--bg-color);\n",
              "    border: none;\n",
              "    border-radius: 50%;\n",
              "    cursor: pointer;\n",
              "    display: none;\n",
              "    fill: var(--fill-color);\n",
              "    height: 32px;\n",
              "    padding: 0;\n",
              "    width: 32px;\n",
              "  }\n",
              "\n",
              "  .colab-df-quickchart:hover {\n",
              "    background-color: var(--hover-bg-color);\n",
              "    box-shadow: 0 1px 2px rgba(60, 64, 67, 0.3), 0 1px 3px 1px rgba(60, 64, 67, 0.15);\n",
              "    fill: var(--button-hover-fill-color);\n",
              "  }\n",
              "\n",
              "  .colab-df-quickchart-complete:disabled,\n",
              "  .colab-df-quickchart-complete:disabled:hover {\n",
              "    background-color: var(--disabled-bg-color);\n",
              "    fill: var(--disabled-fill-color);\n",
              "    box-shadow: none;\n",
              "  }\n",
              "\n",
              "  .colab-df-spinner {\n",
              "    border: 2px solid var(--fill-color);\n",
              "    border-color: transparent;\n",
              "    border-bottom-color: var(--fill-color);\n",
              "    animation:\n",
              "      spin 1s steps(1) infinite;\n",
              "  }\n",
              "\n",
              "  @keyframes spin {\n",
              "    0% {\n",
              "      border-color: transparent;\n",
              "      border-bottom-color: var(--fill-color);\n",
              "      border-left-color: var(--fill-color);\n",
              "    }\n",
              "    20% {\n",
              "      border-color: transparent;\n",
              "      border-left-color: var(--fill-color);\n",
              "      border-top-color: var(--fill-color);\n",
              "    }\n",
              "    30% {\n",
              "      border-color: transparent;\n",
              "      border-left-color: var(--fill-color);\n",
              "      border-top-color: var(--fill-color);\n",
              "      border-right-color: var(--fill-color);\n",
              "    }\n",
              "    40% {\n",
              "      border-color: transparent;\n",
              "      border-right-color: var(--fill-color);\n",
              "      border-top-color: var(--fill-color);\n",
              "    }\n",
              "    60% {\n",
              "      border-color: transparent;\n",
              "      border-right-color: var(--fill-color);\n",
              "    }\n",
              "    80% {\n",
              "      border-color: transparent;\n",
              "      border-right-color: var(--fill-color);\n",
              "      border-bottom-color: var(--fill-color);\n",
              "    }\n",
              "    90% {\n",
              "      border-color: transparent;\n",
              "      border-bottom-color: var(--fill-color);\n",
              "    }\n",
              "  }\n",
              "</style>\n",
              "\n",
              "  <script>\n",
              "    async function quickchart(key) {\n",
              "      const quickchartButtonEl =\n",
              "        document.querySelector('#' + key + ' button');\n",
              "      quickchartButtonEl.disabled = true;  // To prevent multiple clicks.\n",
              "      quickchartButtonEl.classList.add('colab-df-spinner');\n",
              "      try {\n",
              "        const charts = await google.colab.kernel.invokeFunction(\n",
              "            'suggestCharts', [key], {});\n",
              "      } catch (error) {\n",
              "        console.error('Error during call to suggestCharts:', error);\n",
              "      }\n",
              "      quickchartButtonEl.classList.remove('colab-df-spinner');\n",
              "      quickchartButtonEl.classList.add('colab-df-quickchart-complete');\n",
              "    }\n",
              "    (() => {\n",
              "      let quickchartButtonEl =\n",
              "        document.querySelector('#df-b2a55493-c024-442c-9cc6-9123fca29939 button');\n",
              "      quickchartButtonEl.style.display =\n",
              "        google.colab.kernel.accessAllowed ? 'block' : 'none';\n",
              "    })();\n",
              "  </script>\n",
              "</div>\n",
              "\n",
              "    </div>\n",
              "  </div>\n"
            ],
            "application/vnd.google.colaboratory.intrinsic+json": {
              "type": "dataframe",
              "variable_name": "df11",
              "summary": "{\n  \"name\": \"df11\",\n  \"rows\": 814,\n  \"fields\": [\n    {\n      \"column\": \"Unnamed: 0\",\n      \"properties\": {\n        \"dtype\": \"number\",\n        \"std\": 1781,\n        \"min\": 2,\n        \"max\": 6014,\n        \"num_unique_values\": 814,\n        \"samples\": [\n          1842,\n          4481,\n          1708\n        ],\n        \"semantic_type\": \"\",\n        \"description\": \"\"\n      }\n    },\n    {\n      \"column\": \"Name\",\n      \"properties\": {\n        \"dtype\": \"category\",\n        \"num_unique_values\": 317,\n        \"samples\": [\n          \"Jeep Compass 2.0 Limited\",\n          \"Tata Nexon 1.2 Revotron XZ Plus\",\n          \"Hyundai Verna VTVT 1.6 AT SX Plus\"\n        ],\n        \"semantic_type\": \"\",\n        \"description\": \"\"\n      }\n    },\n    {\n      \"column\": \"Location\",\n      \"properties\": {\n        \"dtype\": \"category\",\n        \"num_unique_values\": 11,\n        \"samples\": [\n          \"Bangalore\",\n          \"Chennai\",\n          \"Hyderabad\"\n        ],\n        \"semantic_type\": \"\",\n        \"description\": \"\"\n      }\n    },\n    {\n      \"column\": \"Year\",\n      \"properties\": {\n        \"dtype\": \"number\",\n        \"std\": 2,\n        \"min\": 2001,\n        \"max\": 2019,\n        \"num_unique_values\": 16,\n        \"samples\": [\n          2011,\n          2016,\n          2017\n        ],\n        \"semantic_type\": \"\",\n        \"description\": \"\"\n      }\n    },\n    {\n      \"column\": \"Kilometers_Driven\",\n      \"properties\": {\n        \"dtype\": \"number\",\n        \"std\": 28851,\n        \"min\": 600,\n        \"max\": 215000,\n        \"num_unique_values\": 569,\n        \"samples\": [\n          20877,\n          13190,\n          9565\n        ],\n        \"semantic_type\": \"\",\n        \"description\": \"\"\n      }\n    },\n    {\n      \"column\": \"Owner_Type\",\n      \"properties\": {\n        \"dtype\": \"category\",\n        \"num_unique_values\": 3,\n        \"samples\": [\n          \"First\",\n          \"Second\",\n          \"Third\"\n        ],\n        \"semantic_type\": \"\",\n        \"description\": \"\"\n      }\n    },\n    {\n      \"column\": \"Mileage\",\n      \"properties\": {\n        \"dtype\": \"number\",\n        \"std\": 4.4490713278367116,\n        \"min\": 0.0,\n        \"max\": 28.4,\n        \"num_unique_values\": 148,\n        \"samples\": [\n          13.33,\n          15.96,\n          18.59\n        ],\n        \"semantic_type\": \"\",\n        \"description\": \"\"\n      }\n    },\n    {\n      \"column\": \"Engine\",\n      \"properties\": {\n        \"dtype\": \"number\",\n        \"std\": 562.3626223686888,\n        \"min\": 799.0,\n        \"max\": 4951.0,\n        \"num_unique_values\": 58,\n        \"samples\": [\n          1199.0,\n          1598.0,\n          1496.0\n        ],\n        \"semantic_type\": \"\",\n        \"description\": \"\"\n      }\n    },\n    {\n      \"column\": \"Power\",\n      \"properties\": {\n        \"dtype\": \"number\",\n        \"std\": 55.60774689825273,\n        \"min\": 53.0,\n        \"max\": 444.0,\n        \"num_unique_values\": 111,\n        \"samples\": [\n          122.0,\n          194.0,\n          190.0\n        ],\n        \"semantic_type\": \"\",\n        \"description\": \"\"\n      }\n    },\n    {\n      \"column\": \"Seats\",\n      \"properties\": {\n        \"dtype\": \"number\",\n        \"std\": 0.7982031311666508,\n        \"min\": 2.0,\n        \"max\": 8.0,\n        \"num_unique_values\": 6,\n        \"samples\": [\n          5.0,\n          8.0,\n          6.0\n        ],\n        \"semantic_type\": \"\",\n        \"description\": \"\"\n      }\n    },\n    {\n      \"column\": \"New_Price\",\n      \"properties\": {\n        \"dtype\": \"string\",\n        \"num_unique_values\": 534,\n        \"samples\": [\n          \"10.48 Lakh\",\n          \"14.1 Lakh\",\n          \"15.72 Lakh\"\n        ],\n        \"semantic_type\": \"\",\n        \"description\": \"\"\n      }\n    },\n    {\n      \"column\": \"Price\",\n      \"properties\": {\n        \"dtype\": \"number\",\n        \"std\": 14.904356082145814,\n        \"min\": 0.7,\n        \"max\": 160.0,\n        \"num_unique_values\": 503,\n        \"samples\": [\n          21.69,\n          17.0,\n          8.25\n        ],\n        \"semantic_type\": \"\",\n        \"description\": \"\"\n      }\n    },\n    {\n      \"column\": \"Fuel_Diesel\",\n      \"properties\": {\n        \"dtype\": \"boolean\",\n        \"num_unique_values\": 2,\n        \"samples\": [\n          true,\n          false\n        ],\n        \"semantic_type\": \"\",\n        \"description\": \"\"\n      }\n    },\n    {\n      \"column\": \"Fuel_Petrol\",\n      \"properties\": {\n        \"dtype\": \"boolean\",\n        \"num_unique_values\": 2,\n        \"samples\": [\n          false,\n          true\n        ],\n        \"semantic_type\": \"\",\n        \"description\": \"\"\n      }\n    },\n    {\n      \"column\": \"Transmission_Automatic\",\n      \"properties\": {\n        \"dtype\": \"boolean\",\n        \"num_unique_values\": 2,\n        \"samples\": [\n          true,\n          false\n        ],\n        \"semantic_type\": \"\",\n        \"description\": \"\"\n      }\n    },\n    {\n      \"column\": \"Transmission_Manual\",\n      \"properties\": {\n        \"dtype\": \"boolean\",\n        \"num_unique_values\": 2,\n        \"samples\": [\n          false,\n          true\n        ],\n        \"semantic_type\": \"\",\n        \"description\": \"\"\n      }\n    },\n    {\n      \"column\": \"Current_Age\",\n      \"properties\": {\n        \"dtype\": \"number\",\n        \"std\": 2,\n        \"min\": 5,\n        \"max\": 23,\n        \"num_unique_values\": 16,\n        \"samples\": [\n          13,\n          8\n        ],\n        \"semantic_type\": \"\",\n        \"description\": \"\"\n      }\n    },\n    {\n      \"column\": \"Age\",\n      \"properties\": {\n        \"dtype\": \"number\",\n        \"std\": 2,\n        \"min\": 5,\n        \"max\": 23,\n        \"num_unique_values\": 16,\n        \"samples\": [\n          13,\n          8\n        ],\n        \"semantic_type\": \"\",\n        \"description\": \"\"\n      }\n    }\n  ]\n}"
            }
          },
          "metadata": {},
          "execution_count": 168
        }
      ]
    },
    {
      "cell_type": "code",
      "source": [
        "#arrange operation\n",
        "#sorting the data\n",
        "sorted_df = df11.sort_values(by='Price', ascending=False)\n",
        "sorted_df.head(5)\n",
        "sorted_df.to_csv('sorted_df.csv', index=False)"
      ],
      "metadata": {
        "id": "kz4001BVHfjM"
      },
      "execution_count": 178,
      "outputs": []
    },
    {
      "cell_type": "code",
      "source": [
        "#summarize by group\n",
        "summary_data = df11.groupby('Location')['Price'].mean().reset_index()\n",
        "summary_data.head(5)\n",
        "summary_data.to_csv('summary_data.csv', index=False)\n"
      ],
      "metadata": {
        "id": "K1mA6Z6QHrpC"
      },
      "execution_count": 180,
      "outputs": []
    }
  ]
}